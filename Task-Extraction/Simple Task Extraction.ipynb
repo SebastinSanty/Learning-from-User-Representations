{
 "cells": [
  {
   "cell_type": "code",
   "execution_count": 3,
   "metadata": {},
   "outputs": [],
   "source": [
    "with open('../data/aol.txt') as f:\n",
    "    data = f.readlines()"
   ]
  },
  {
   "cell_type": "code",
   "execution_count": 102,
   "metadata": {},
   "outputs": [],
   "source": [
    "with open('../data/trec-tasks.txt') as f:\n",
    "    trec = f.read()\n",
    "    \n",
    "# trec"
   ]
  },
  {
   "cell_type": "code",
   "execution_count": 103,
   "metadata": {},
   "outputs": [],
   "source": [
    "import re\n",
    "trec = re.sub(r'[0-9]+. ', '', trec)\n",
    "trec = trec.replace(\"(\", \"\")\n",
    "trec = trec.replace(\")\", \"\")\n",
    "trec = trec.replace(\"?\", \"\")\n",
    "trec = trec.replace(\"[\", \"\")\n",
    "trec = trec.replace(\"]\", \"\")\n",
    "tasks = trec.split('\\n')\n",
    "# tasks = [(task.split('\\n\\n')[0], task.split('\\n\\n')[1].split('\\n')) for task in tasks]\n",
    "tasks = list(filter(None, tasks))\n",
    "# tasks"
   ]
  },
  {
   "cell_type": "code",
   "execution_count": 104,
   "metadata": {},
   "outputs": [
    {
     "data": {
      "text/plain": [
       "['What is the weather like in November',\n",
       " 'How do I sign up for TSA PreCheck',\n",
       " 'What legal documents are necessary ',\n",
       " 'How long does it take for a global entry application to be approved',\n",
       " 'How to set up surveillance',\n",
       " 'What countries accept Global Entry Work',\n",
       " 'What are America unfriendly countries',\n",
       " 'travel in developing countries How to travel as an American in developing countries',\n",
       " 'How could traveling back and forth in time cause problems in the universe',\n",
       " 'What to pack with me',\n",
       " 'Which airlines participate in TSA PreCheck',\n",
       " 'What countries accept international driving permit',\n",
       " 'How long does it take to get an international driving license',\n",
       " 'Can you work in the UK while on a student visa',\n",
       " 'Is a visa necessary and how do you obtain it',\n",
       " 'Can family members use TSA Pre',\n",
       " 'What medications to take with me',\n",
       " 'What is the checklist for applying for a UK Tier 4 visa',\n",
       " 'How fast do you have to go to travel through time',\n",
       " 'What forums to search at for guidelines',\n",
       " 'What are the top-recommended attractions',\n",
       " 'Find a pet-sitter.',\n",
       " 'How long is pre-check good for',\n",
       " 'How to build a time machine',\n",
       " 'Where can I find a Tier 4 student visa application form',\n",
       " 'What are the local traditions and cultural taboos',\n",
       " 'What are recommended dishes to try',\n",
       " 'What are the required vaccinations',\n",
       " 'How to pet-proof the house',\n",
       " 'Can history be altered without consequences']"
      ]
     },
     "execution_count": 104,
     "metadata": {},
     "output_type": "execute_result"
    }
   ],
   "source": [
    "import random\n",
    "new_q = random.sample(tasks, 30)\n",
    "new_q"
   ]
  },
  {
   "cell_type": "code",
   "execution_count": 105,
   "metadata": {},
   "outputs": [],
   "source": [
    "import spacy\n",
    "nlp = spacy.load('en_core_web_lg')"
   ]
  },
  {
   "cell_type": "code",
   "execution_count": 53,
   "metadata": {},
   "outputs": [],
   "source": [
    "import math"
   ]
  },
  {
   "cell_type": "code",
   "execution_count": 82,
   "metadata": {},
   "outputs": [],
   "source": [
    "def caterr(nue):\n",
    "    try:\n",
    "        return 10*((1/nue)-1)\n",
    "    except ZeroDivisionError:\n",
    "        return 100"
   ]
  },
  {
   "cell_type": "code",
   "execution_count": 106,
   "metadata": {},
   "outputs": [],
   "source": [
    "similarity_mat = [[nlp(k).similarity(nlp(i))\n",
    "                   for k in new_q] for i in new_q]\n",
    "#similarity_mat"
   ]
  },
  {
   "cell_type": "code",
   "execution_count": 83,
   "metadata": {},
   "outputs": [],
   "source": [
    "distance_mat = [[caterr(k) for k in i] for i in similarity_mat]\n",
    "#distance_mat"
   ]
  },
  {
   "cell_type": "code",
   "execution_count": 107,
   "metadata": {},
   "outputs": [],
   "source": [
    "from scipy.cluster.hierarchy import ward, fcluster\n",
    "import numpy as np"
   ]
  },
  {
   "cell_type": "code",
   "execution_count": 108,
   "metadata": {},
   "outputs": [
    {
     "name": "stderr",
     "output_type": "stream",
     "text": [
      "/Library/Frameworks/Python.framework/Versions/3.6/lib/python3.6/site-packages/scipy/cluster/hierarchy.py:482: ClusterWarning: scipy.cluster: The symmetric non-negative hollow observation matrix looks suspiciously like an uncondensed distance matrix\n",
      "  return linkage(y, method='ward', metric='euclidean')\n"
     ]
    }
   ],
   "source": [
    "dist = ward(np.array(distance_mat))\n",
    "clus = fcluster(dist, t=9, criterion='distance')"
   ]
  },
  {
   "cell_type": "code",
   "execution_count": 109,
   "metadata": {},
   "outputs": [
    {
     "name": "stdout",
     "output_type": "stream",
     "text": [
      "{\n",
      "    \"6\": [\n",
      "        \"What is the weather like in November\",\n",
      "        \"How do I sign up for TSA PreCheck\",\n",
      "        \"travel in developing countries How to travel as an American in developing countries\",\n",
      "        \"How could traveling back and forth in time cause problems in the universe\",\n",
      "        \"Which airlines participate in TSA PreCheck\",\n",
      "        \"What medications to take with me\",\n",
      "        \"What are the top-recommended attractions\",\n",
      "        \"What are the required vaccinations\",\n",
      "        \"Can history be altered without consequences\"\n",
      "    ],\n",
      "    \"9\": [\n",
      "        \"What legal documents are necessary \",\n",
      "        \"What to pack with me\",\n",
      "        \"Find a pet-sitter.\",\n",
      "        \"How to build a time machine\"\n",
      "    ],\n",
      "    \"10\": [\n",
      "        \"How long does it take for a global entry application to be approved\"\n",
      "    ],\n",
      "    \"1\": [\n",
      "        \"How to set up surveillance\"\n",
      "    ],\n",
      "    \"4\": [\n",
      "        \"What countries accept Global Entry Work\",\n",
      "        \"What is the checklist for applying for a UK Tier 4 visa\",\n",
      "        \"Where can I find a Tier 4 student visa application form\"\n",
      "    ],\n",
      "    \"8\": [\n",
      "        \"What are America unfriendly countries\",\n",
      "        \"How long does it take to get an international driving license\"\n",
      "    ],\n",
      "    \"11\": [\n",
      "        \"What countries accept international driving permit\"\n",
      "    ],\n",
      "    \"7\": [\n",
      "        \"Can you work in the UK while on a student visa\",\n",
      "        \"Is a visa necessary and how do you obtain it\",\n",
      "        \"Can family members use TSA Pre\",\n",
      "        \"What forums to search at for guidelines\",\n",
      "        \"What are recommended dishes to try\"\n",
      "    ],\n",
      "    \"5\": [\n",
      "        \"How fast do you have to go to travel through time\"\n",
      "    ],\n",
      "    \"3\": [\n",
      "        \"How long is pre-check good for\",\n",
      "        \"What are the local traditions and cultural taboos\"\n",
      "    ],\n",
      "    \"2\": [\n",
      "        \"How to pet-proof the house\"\n",
      "    ]\n",
      "}\n"
     ]
    }
   ],
   "source": [
    "clus = list(clus)\n",
    "dicto = {}\n",
    "for i in range(len(clus)):\n",
    "    if str(clus[i]) in dicto:\n",
    "        dicto[str(clus[i])].append(new_q[i])\n",
    "    else:\n",
    "        dicto[str(clus[i])] = [new_q[i]]\n",
    "    \n",
    "# print(dicto)\n",
    "import json\n",
    "print(json.dumps(dicto, indent=4))"
   ]
  },
  {
   "cell_type": "code",
   "execution_count": null,
   "metadata": {},
   "outputs": [],
   "source": []
  }
 ],
 "metadata": {
  "kernelspec": {
   "display_name": "Python 3",
   "language": "python",
   "name": "python3"
  },
  "language_info": {
   "codemirror_mode": {
    "name": "ipython",
    "version": 3
   },
   "file_extension": ".py",
   "mimetype": "text/x-python",
   "name": "python",
   "nbconvert_exporter": "python",
   "pygments_lexer": "ipython3",
   "version": "3.6.5"
  }
 },
 "nbformat": 4,
 "nbformat_minor": 2
}
